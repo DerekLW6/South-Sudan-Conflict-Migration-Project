{
 "cells": [
  {
   "cell_type": "code",
   "execution_count": 1,
   "metadata": {},
   "outputs": [],
   "source": [
    "import pandas as pd\n",
    "import numpy as np\n",
    "import matplotlib.pyplot as plt\n",
    "import seaborn as sns\n",
    "import warnings\n",
    "warnings.simplefilter(action='ignore', category=FutureWarning)\n",
    "%matplotlib inline"
   ]
  },
  {
   "cell_type": "code",
   "execution_count": 2,
   "metadata": {},
   "outputs": [],
   "source": [
    "# Conflict Data - admin1 (State)/admin2 (County)\n",
    "# Health Facilies - state/county\n",
    "# Migration - admin1(State)/admin2 (County) - Population\n",
    "# Demographics - Just Demographics (State/County)"
   ]
  },
  {
   "cell_type": "markdown",
   "metadata": {},
   "source": [
    "### Cleaning Conflict Data\n",
    "Source: </br>\n",
    "https://en.wikipedia.org/wiki/Counties_of_South_Sudan"
   ]
  },
  {
   "cell_type": "code",
   "execution_count": 3,
   "metadata": {},
   "outputs": [],
   "source": [
    "# Event date, year, admin1, admin2, fatalities \n",
    "# Plan to slice down to year county/fatalities\n",
    "conflict = pd.read_csv('conflict_data.csv')\n",
    "\n",
    "# Slicing Conflict Data\n",
    "conflict_sliced = conflict[['event_date', 'year', 'admin1', 'admin2', 'fatalities']]"
   ]
  },
  {
   "cell_type": "code",
   "execution_count": 4,
   "metadata": {},
   "outputs": [
    {
     "data": {
      "text/plain": [
       "array([2015, 2014, 2013, 2012, 2011], dtype=int64)"
      ]
     },
     "execution_count": 4,
     "metadata": {},
     "output_type": "execute_result"
    }
   ],
   "source": [
    "conflict_sliced['year'].unique()"
   ]
  },
  {
   "cell_type": "code",
   "execution_count": 4,
   "metadata": {},
   "outputs": [
    {
     "data": {
      "text/html": [
       "<div>\n",
       "<style scoped>\n",
       "    .dataframe tbody tr th:only-of-type {\n",
       "        vertical-align: middle;\n",
       "    }\n",
       "\n",
       "    .dataframe tbody tr th {\n",
       "        vertical-align: top;\n",
       "    }\n",
       "\n",
       "    .dataframe thead th {\n",
       "        text-align: right;\n",
       "    }\n",
       "</style>\n",
       "<table border=\"1\" class=\"dataframe\">\n",
       "  <thead>\n",
       "    <tr style=\"text-align: right;\">\n",
       "      <th></th>\n",
       "      <th>event_date</th>\n",
       "      <th>year</th>\n",
       "      <th>admin1</th>\n",
       "      <th>admin2</th>\n",
       "      <th>fatalities</th>\n",
       "    </tr>\n",
       "  </thead>\n",
       "  <tbody>\n",
       "    <tr>\n",
       "      <th>0</th>\n",
       "      <td>31 December 2015</td>\n",
       "      <td>2015</td>\n",
       "      <td>Western Bahr el Ghazal</td>\n",
       "      <td>Wau</td>\n",
       "      <td>0</td>\n",
       "    </tr>\n",
       "    <tr>\n",
       "      <th>1</th>\n",
       "      <td>30 December 2015</td>\n",
       "      <td>2015</td>\n",
       "      <td>Western Bahr el Ghazal</td>\n",
       "      <td>Jur River</td>\n",
       "      <td>5</td>\n",
       "    </tr>\n",
       "    <tr>\n",
       "      <th>2</th>\n",
       "      <td>30 December 2015</td>\n",
       "      <td>2015</td>\n",
       "      <td>Western Equatoria</td>\n",
       "      <td>Yambio</td>\n",
       "      <td>0</td>\n",
       "    </tr>\n",
       "    <tr>\n",
       "      <th>3</th>\n",
       "      <td>28 December 2015</td>\n",
       "      <td>2015</td>\n",
       "      <td>Western Equatoria</td>\n",
       "      <td>Yambio</td>\n",
       "      <td>0</td>\n",
       "    </tr>\n",
       "    <tr>\n",
       "      <th>4</th>\n",
       "      <td>28 December 2015</td>\n",
       "      <td>2015</td>\n",
       "      <td>Western Bahr el Ghazal</td>\n",
       "      <td>Wau</td>\n",
       "      <td>1</td>\n",
       "    </tr>\n",
       "  </tbody>\n",
       "</table>\n",
       "</div>"
      ],
      "text/plain": [
       "         event_date  year                  admin1     admin2  fatalities\n",
       "0  31 December 2015  2015  Western Bahr el Ghazal        Wau           0\n",
       "1  30 December 2015  2015  Western Bahr el Ghazal  Jur River           5\n",
       "2  30 December 2015  2015       Western Equatoria     Yambio           0\n",
       "3  28 December 2015  2015       Western Equatoria     Yambio           0\n",
       "4  28 December 2015  2015  Western Bahr el Ghazal        Wau           1"
      ]
     },
     "execution_count": 4,
     "metadata": {},
     "output_type": "execute_result"
    }
   ],
   "source": [
    "conflict_sliced.head()"
   ]
  },
  {
   "cell_type": "code",
   "execution_count": 5,
   "metadata": {},
   "outputs": [
    {
     "data": {
      "text/plain": [
       "76"
      ]
     },
     "execution_count": 5,
     "metadata": {},
     "output_type": "execute_result"
    }
   ],
   "source": [
    "# Validating representation (76 of 79 Counties.)\n",
    "len(conflict_sliced['admin2'].unique())"
   ]
  },
  {
   "cell_type": "code",
   "execution_count": 6,
   "metadata": {},
   "outputs": [
    {
     "data": {
      "text/plain": [
       "array([2015, 2014, 2013, 2012, 2011], dtype=int64)"
      ]
     },
     "execution_count": 6,
     "metadata": {},
     "output_type": "execute_result"
    }
   ],
   "source": [
    "# Validating this Dataset has information in the correct years \n",
    "conflict_sliced['year'].unique()"
   ]
  },
  {
   "cell_type": "code",
   "execution_count": 7,
   "metadata": {},
   "outputs": [
    {
     "data": {
      "text/html": [
       "<div>\n",
       "<style scoped>\n",
       "    .dataframe tbody tr th:only-of-type {\n",
       "        vertical-align: middle;\n",
       "    }\n",
       "\n",
       "    .dataframe tbody tr th {\n",
       "        vertical-align: top;\n",
       "    }\n",
       "\n",
       "    .dataframe thead th {\n",
       "        text-align: right;\n",
       "    }\n",
       "</style>\n",
       "<table border=\"1\" class=\"dataframe\">\n",
       "  <thead>\n",
       "    <tr style=\"text-align: right;\">\n",
       "      <th></th>\n",
       "      <th>year</th>\n",
       "      <th>admin2</th>\n",
       "      <th>fatalities</th>\n",
       "    </tr>\n",
       "  </thead>\n",
       "  <tbody>\n",
       "    <tr>\n",
       "      <th>0</th>\n",
       "      <td>2012</td>\n",
       "      <td>Abiemnhom</td>\n",
       "      <td>7</td>\n",
       "    </tr>\n",
       "    <tr>\n",
       "      <th>1</th>\n",
       "      <td>2013</td>\n",
       "      <td>Abiemnhom</td>\n",
       "      <td>8</td>\n",
       "    </tr>\n",
       "    <tr>\n",
       "      <th>2</th>\n",
       "      <td>2014</td>\n",
       "      <td>Abiemnhom</td>\n",
       "      <td>0</td>\n",
       "    </tr>\n",
       "    <tr>\n",
       "      <th>3</th>\n",
       "      <td>2011</td>\n",
       "      <td>Akobo</td>\n",
       "      <td>1</td>\n",
       "    </tr>\n",
       "    <tr>\n",
       "      <th>4</th>\n",
       "      <td>2012</td>\n",
       "      <td>Akobo</td>\n",
       "      <td>98</td>\n",
       "    </tr>\n",
       "  </tbody>\n",
       "</table>\n",
       "</div>"
      ],
      "text/plain": [
       "   year     admin2  fatalities\n",
       "0  2012  Abiemnhom           7\n",
       "1  2013  Abiemnhom           8\n",
       "2  2014  Abiemnhom           0\n",
       "3  2011      Akobo           1\n",
       "4  2012      Akobo          98"
      ]
     },
     "execution_count": 7,
     "metadata": {},
     "output_type": "execute_result"
    }
   ],
   "source": [
    "# Grouping by year/region\n",
    "conflict_sliced_grouped = conflict_sliced.groupby(['admin2', 'year']).sum()\n",
    "\n",
    "#conflict_sliced_grouped['year'].unique()\n",
    "conflict_sliced_grouped.to_csv('aggregated_conflict_data.csv')\n",
    "\n",
    "# Reading out to CSV then back in fixes index\n",
    "merged_conflict_data = pd.read_csv('aggregated_conflict_data.csv')\n",
    "\n",
    "# Reordering columns\n",
    "merged_conflict_data = merged_conflict_data[['year', 'admin2', 'fatalities']]\n",
    "\n",
    "# Printing the DF for Merging\n",
    "merged_conflict_data.head()"
   ]
  },
  {
   "cell_type": "markdown",
   "metadata": {},
   "source": [
    "### Hospital Data \n",
    "Source: </br>\n",
    "http://www.southsudanmedicaljournal.com/assets/files/Journals/vol_12_iss_2_mar_19/SSMJ%2012%202%20Issue%20Final.pdf"
   ]
  },
  {
   "cell_type": "code",
   "execution_count": 8,
   "metadata": {},
   "outputs": [],
   "source": [
    "# Note nothing on hospital size or construction date in the DF\n",
    "hospitals = pd.read_excel('health_facilities.xls')"
   ]
  },
  {
   "cell_type": "code",
   "execution_count": 9,
   "metadata": {},
   "outputs": [
    {
     "data": {
      "text/plain": [
       "PHCU                    1079\n",
       "PHCC                     306\n",
       "County Hospital           28\n",
       "Private Clinic            15\n",
       "Specialized Hospital      13\n",
       "Other                     10\n",
       "State Hospital             8\n",
       "Teaching Hospital          3\n",
       "Hospital                   1\n",
       "Name: HF_TYPE, dtype: int64"
      ]
     },
     "execution_count": 9,
     "metadata": {},
     "output_type": "execute_result"
    }
   ],
   "source": [
    "# PHCU - Primary Health Care Unit\n",
    "# PHCC - Primary Health Care Centers\n",
    "hospitals['HF_TYPE'].value_counts()"
   ]
  },
  {
   "cell_type": "code",
   "execution_count": 10,
   "metadata": {},
   "outputs": [
    {
     "name": "stdout",
     "output_type": "stream",
     "text": [
      "There are 1463 medical facilities in South Sudan in 77 of the 79 counties.\n",
      "This dataset does not contain information on size or construction date of the hospitals.\n"
     ]
    }
   ],
   "source": [
    "print(\"There are {} medical facilities in South Sudan in {} of the 79 counties.\".format(hospitals.shape[0],len(hospitals['COUNTY'].unique())))\n",
    "print(\"This dataset does not contain information on size or construction date of the hospitals.\")"
   ]
  },
  {
   "cell_type": "code",
   "execution_count": 11,
   "metadata": {},
   "outputs": [
    {
     "data": {
      "text/plain": [
       "Functional        648\n",
       "Non Functional     31\n",
       "Name: FUNCTIONAL Status, dtype: int64"
      ]
     },
     "execution_count": 11,
     "metadata": {},
     "output_type": "execute_result"
    }
   ],
   "source": [
    "# Filtering hospitals\n",
    "# 1463 Total Entries, 784 NaN, 648 Functional, 31 Non Fuctional. Assumed NAs were functional   \n",
    "hospitals['FUNCTIONAL Status'].value_counts()"
   ]
  },
  {
   "cell_type": "code",
   "execution_count": 12,
   "metadata": {},
   "outputs": [
    {
     "data": {
      "text/html": [
       "<div>\n",
       "<style scoped>\n",
       "    .dataframe tbody tr th:only-of-type {\n",
       "        vertical-align: middle;\n",
       "    }\n",
       "\n",
       "    .dataframe tbody tr th {\n",
       "        vertical-align: top;\n",
       "    }\n",
       "\n",
       "    .dataframe thead th {\n",
       "        text-align: right;\n",
       "    }\n",
       "</style>\n",
       "<table border=\"1\" class=\"dataframe\">\n",
       "  <thead>\n",
       "    <tr style=\"text-align: right;\">\n",
       "      <th></th>\n",
       "      <th>STATE</th>\n",
       "      <th>COUNTY</th>\n",
       "      <th>PAYAM</th>\n",
       "      <th>FACIL_NAME</th>\n",
       "      <th>FACIL_NAME2</th>\n",
       "      <th>LATITUDE</th>\n",
       "      <th>LONGITUDE</th>\n",
       "      <th>Q_CODE</th>\n",
       "      <th>HF_CODE</th>\n",
       "      <th>HF_TYPE</th>\n",
       "      <th>FUNCTIONAL Status</th>\n",
       "    </tr>\n",
       "  </thead>\n",
       "  <tbody>\n",
       "    <tr>\n",
       "      <th>0</th>\n",
       "      <td>Central Equatoria</td>\n",
       "      <td>Juba</td>\n",
       "      <td>Juba Town</td>\n",
       "      <td>AIC BULUK</td>\n",
       "      <td>Aic Buluk</td>\n",
       "      <td>4.84718</td>\n",
       "      <td>31.59355</td>\n",
       "      <td>92093</td>\n",
       "      <td>15</td>\n",
       "      <td>PHCU</td>\n",
       "      <td>Functional</td>\n",
       "    </tr>\n",
       "    <tr>\n",
       "      <th>1</th>\n",
       "      <td>Central Equatoria</td>\n",
       "      <td>Juba</td>\n",
       "      <td>Lokiliri</td>\n",
       "      <td>ARU HEALTH UNIT</td>\n",
       "      <td>Aru Health Unit</td>\n",
       "      <td>4.36354</td>\n",
       "      <td>31.98460</td>\n",
       "      <td>92235</td>\n",
       "      <td>15</td>\n",
       "      <td>PHCU</td>\n",
       "      <td>Functional</td>\n",
       "    </tr>\n",
       "    <tr>\n",
       "      <th>2</th>\n",
       "      <td>Central Equatoria</td>\n",
       "      <td>Juba</td>\n",
       "      <td>Juba Town</td>\n",
       "      <td>BELPHAM MEDICAL HQ</td>\n",
       "      <td>Belpham Medical Hq</td>\n",
       "      <td>4.81890</td>\n",
       "      <td>31.57712</td>\n",
       "      <td>92206</td>\n",
       "      <td>14</td>\n",
       "      <td>PHCC</td>\n",
       "      <td>Functional</td>\n",
       "    </tr>\n",
       "  </tbody>\n",
       "</table>\n",
       "</div>"
      ],
      "text/plain": [
       "               STATE COUNTY      PAYAM          FACIL_NAME  \\\n",
       "0  Central Equatoria   Juba  Juba Town           AIC BULUK   \n",
       "1  Central Equatoria   Juba   Lokiliri     ARU HEALTH UNIT   \n",
       "2  Central Equatoria   Juba  Juba Town  BELPHAM MEDICAL HQ   \n",
       "\n",
       "          FACIL_NAME2  LATITUDE  LONGITUDE  Q_CODE  HF_CODE HF_TYPE  \\\n",
       "0           Aic Buluk   4.84718   31.59355   92093       15    PHCU   \n",
       "1     Aru Health Unit   4.36354   31.98460   92235       15    PHCU   \n",
       "2  Belpham Medical Hq   4.81890   31.57712   92206       14    PHCC   \n",
       "\n",
       "  FUNCTIONAL Status  \n",
       "0        Functional  \n",
       "1        Functional  \n",
       "2        Functional  "
      ]
     },
     "execution_count": 12,
     "metadata": {},
     "output_type": "execute_result"
    }
   ],
   "source": [
    "# Removing Non Functional Hospitals\n",
    "hospitals_filtered = hospitals.loc[~(hospitals['FUNCTIONAL Status'] == 'Non Functional')]\n",
    "\n",
    "# To Avoid Copy/View Warning.\n",
    "hospitals_filtered = hospitals_filtered.copy() \n",
    "\n",
    "# Replacing all of the NaNs with Functional\n",
    "hospitals_filtered['FUNCTIONAL Status'] = hospitals_filtered['FUNCTIONAL Status'].fillna(value='Functional')\n",
    "\n",
    "# Dropping ID and source\n",
    "del hospitals_filtered['ID']\n",
    "del hospitals_filtered['Source']\n",
    "\n",
    "hospitals_filtered.head(3)"
   ]
  },
  {
   "cell_type": "code",
   "execution_count": 13,
   "metadata": {},
   "outputs": [
    {
     "data": {
      "text/html": [
       "<div>\n",
       "<style scoped>\n",
       "    .dataframe tbody tr th:only-of-type {\n",
       "        vertical-align: middle;\n",
       "    }\n",
       "\n",
       "    .dataframe tbody tr th {\n",
       "        vertical-align: top;\n",
       "    }\n",
       "\n",
       "    .dataframe thead th {\n",
       "        text-align: right;\n",
       "    }\n",
       "</style>\n",
       "<table border=\"1\" class=\"dataframe\">\n",
       "  <thead>\n",
       "    <tr style=\"text-align: right;\">\n",
       "      <th></th>\n",
       "      <th>STATE</th>\n",
       "      <th>COUNTY</th>\n",
       "      <th>county_hospitals</th>\n",
       "    </tr>\n",
       "  </thead>\n",
       "  <tbody>\n",
       "    <tr>\n",
       "      <th>0</th>\n",
       "      <td>Central Equatoria</td>\n",
       "      <td>Juba</td>\n",
       "      <td>76</td>\n",
       "    </tr>\n",
       "    <tr>\n",
       "      <th>76</th>\n",
       "      <td>Central Equatoria</td>\n",
       "      <td>Kajo-Keji</td>\n",
       "      <td>46</td>\n",
       "    </tr>\n",
       "    <tr>\n",
       "      <th>122</th>\n",
       "      <td>Central Equatoria</td>\n",
       "      <td>Lainya</td>\n",
       "      <td>33</td>\n",
       "    </tr>\n",
       "    <tr>\n",
       "      <th>155</th>\n",
       "      <td>Central Equatoria</td>\n",
       "      <td>Morobo</td>\n",
       "      <td>12</td>\n",
       "    </tr>\n",
       "    <tr>\n",
       "      <th>167</th>\n",
       "      <td>Central Equatoria</td>\n",
       "      <td>Terekeka</td>\n",
       "      <td>45</td>\n",
       "    </tr>\n",
       "  </tbody>\n",
       "</table>\n",
       "</div>"
      ],
      "text/plain": [
       "                 STATE     COUNTY  county_hospitals\n",
       "0    Central Equatoria       Juba                76\n",
       "76   Central Equatoria  Kajo-Keji                46\n",
       "122  Central Equatoria     Lainya                33\n",
       "155  Central Equatoria     Morobo                12\n",
       "167  Central Equatoria   Terekeka                45"
      ]
     },
     "execution_count": 13,
     "metadata": {},
     "output_type": "execute_result"
    }
   ],
   "source": [
    "# Slicing the hospital\n",
    "hospitals_filtered = hospitals_filtered[['STATE', 'COUNTY', 'FACIL_NAME2', 'HF_CODE', 'HF_TYPE']]\n",
    "\n",
    "# Getting a count of hospitals by region. \n",
    "count_total = hospitals_filtered.groupby('COUNTY')['FACIL_NAME2'].count().rename(\"county_hospitals\").reset_index()\n",
    "\n",
    "# Combining back together\n",
    "hospitals_filtered_added =  hospitals_filtered.merge(count_total)\n",
    "\n",
    "# Dropping duplicates \n",
    "hospitals_county_level = hospitals_filtered_added.drop_duplicates('COUNTY')\n",
    "\n",
    "# Slicing to just state county and hospital number\n",
    "hospitals_county_level = hospitals_county_level[['STATE', 'COUNTY','county_hospitals']]\n",
    "hospitals_county_level.head()"
   ]
  },
  {
   "cell_type": "code",
   "execution_count": 14,
   "metadata": {},
   "outputs": [
    {
     "name": "stdout",
     "output_type": "stream",
     "text": [
      "Even after these operations the dataframe still retained the original 77 counties.\n"
     ]
    }
   ],
   "source": [
    "print(\"Even after these operations the dataframe still retained the original {} counties.\".format(len(hospitals_county_level['COUNTY'].unique())))"
   ]
  },
  {
   "cell_type": "markdown",
   "metadata": {},
   "source": [
    "### Merging Conflict and Hospital Data"
   ]
  },
  {
   "cell_type": "code",
   "execution_count": 15,
   "metadata": {},
   "outputs": [
    {
     "data": {
      "text/html": [
       "<div>\n",
       "<style scoped>\n",
       "    .dataframe tbody tr th:only-of-type {\n",
       "        vertical-align: middle;\n",
       "    }\n",
       "\n",
       "    .dataframe tbody tr th {\n",
       "        vertical-align: top;\n",
       "    }\n",
       "\n",
       "    .dataframe thead th {\n",
       "        text-align: right;\n",
       "    }\n",
       "</style>\n",
       "<table border=\"1\" class=\"dataframe\">\n",
       "  <thead>\n",
       "    <tr style=\"text-align: right;\">\n",
       "      <th></th>\n",
       "      <th>year</th>\n",
       "      <th>state</th>\n",
       "      <th>county</th>\n",
       "      <th>fatalities</th>\n",
       "      <th>county_hospitals</th>\n",
       "    </tr>\n",
       "  </thead>\n",
       "  <tbody>\n",
       "    <tr>\n",
       "      <th>0</th>\n",
       "      <td>2012</td>\n",
       "      <td>Unity</td>\n",
       "      <td>Abiemnhom</td>\n",
       "      <td>7</td>\n",
       "      <td>5.0</td>\n",
       "    </tr>\n",
       "    <tr>\n",
       "      <th>1</th>\n",
       "      <td>2013</td>\n",
       "      <td>Unity</td>\n",
       "      <td>Abiemnhom</td>\n",
       "      <td>8</td>\n",
       "      <td>5.0</td>\n",
       "    </tr>\n",
       "    <tr>\n",
       "      <th>2</th>\n",
       "      <td>2014</td>\n",
       "      <td>Unity</td>\n",
       "      <td>Abiemnhom</td>\n",
       "      <td>0</td>\n",
       "      <td>5.0</td>\n",
       "    </tr>\n",
       "    <tr>\n",
       "      <th>3</th>\n",
       "      <td>2011</td>\n",
       "      <td>Jonglei</td>\n",
       "      <td>Akobo</td>\n",
       "      <td>1</td>\n",
       "      <td>14.0</td>\n",
       "    </tr>\n",
       "    <tr>\n",
       "      <th>4</th>\n",
       "      <td>2012</td>\n",
       "      <td>Jonglei</td>\n",
       "      <td>Akobo</td>\n",
       "      <td>98</td>\n",
       "      <td>14.0</td>\n",
       "    </tr>\n",
       "  </tbody>\n",
       "</table>\n",
       "</div>"
      ],
      "text/plain": [
       "   year    state     county  fatalities  county_hospitals\n",
       "0  2012    Unity  Abiemnhom           7               5.0\n",
       "1  2013    Unity  Abiemnhom           8               5.0\n",
       "2  2014    Unity  Abiemnhom           0               5.0\n",
       "3  2011  Jonglei      Akobo           1              14.0\n",
       "4  2012  Jonglei      Akobo          98              14.0"
      ]
     },
     "execution_count": 15,
     "metadata": {},
     "output_type": "execute_result"
    }
   ],
   "source": [
    "# Hospitals and Conflict Merge\n",
    "hos_conf_merged = pd.merge(merged_conflict_data, hospitals_county_level, left_on='admin2', right_on='COUNTY',how='left')\n",
    "\n",
    "# Renaming \n",
    "hos_conf_merged = hos_conf_merged.rename(columns={'STATE':'state','COUNTY':'county'})\n",
    "\n",
    "# Reordering Dataframe\n",
    "hos_conf_merged = hos_conf_merged[['year', 'state', 'county','fatalities', 'county_hospitals']]\n",
    "\n",
    "# Checking the DF\n",
    "hos_conf_merged.head()"
   ]
  },
  {
   "cell_type": "code",
   "execution_count": null,
   "metadata": {},
   "outputs": [],
   "source": []
  },
  {
   "cell_type": "markdown",
   "metadata": {},
   "source": [
    "### Demographics\n",
    "Population: </br>\n",
    "https://www.worldometers.info/world-population/south-sudan-population/"
   ]
  },
  {
   "cell_type": "code",
   "execution_count": 25,
   "metadata": {},
   "outputs": [
    {
     "data": {
      "text/html": [
       "<div>\n",
       "<style scoped>\n",
       "    .dataframe tbody tr th:only-of-type {\n",
       "        vertical-align: middle;\n",
       "    }\n",
       "\n",
       "    .dataframe tbody tr th {\n",
       "        vertical-align: top;\n",
       "    }\n",
       "\n",
       "    .dataframe thead th {\n",
       "        text-align: right;\n",
       "    }\n",
       "</style>\n",
       "<table border=\"1\" class=\"dataframe\">\n",
       "  <thead>\n",
       "    <tr style=\"text-align: right;\">\n",
       "      <th></th>\n",
       "      <th>State</th>\n",
       "      <th>Pcode1</th>\n",
       "      <th>County</th>\n",
       "      <th>Pcode2</th>\n",
       "      <th>2019 Baseline Population</th>\n",
       "      <th>Children &lt;18yrs</th>\n",
       "      <th>No. male children under 5</th>\n",
       "      <th>No. female children under 5</th>\n",
       "      <th>No. male children aged 5 - 17 years</th>\n",
       "      <th>No. female children aged 5 - 17 years</th>\n",
       "      <th>No. male adults aged 18 - 60</th>\n",
       "      <th>No. female adults aged 18 - 60</th>\n",
       "      <th>No. male adults aged over 60</th>\n",
       "      <th>No. female adults aged over 60</th>\n",
       "    </tr>\n",
       "  </thead>\n",
       "  <tbody>\n",
       "    <tr>\n",
       "      <th>0</th>\n",
       "      <td>Central Equatoria</td>\n",
       "      <td>92.0</td>\n",
       "      <td>Juba</td>\n",
       "      <td>9202.0</td>\n",
       "      <td>499537.632115</td>\n",
       "      <td>241976.028996</td>\n",
       "      <td>36965.784777</td>\n",
       "      <td>48654.965368</td>\n",
       "      <td>76928.795346</td>\n",
       "      <td>79426.483506</td>\n",
       "      <td>115892.730651</td>\n",
       "      <td>120388.569340</td>\n",
       "      <td>11739.134355</td>\n",
       "      <td>9541.168773</td>\n",
       "    </tr>\n",
       "    <tr>\n",
       "      <th>1</th>\n",
       "      <td>Central Equatoria</td>\n",
       "      <td>92.0</td>\n",
       "      <td>Kajo-keji</td>\n",
       "      <td>9206.0</td>\n",
       "      <td>221902.149132</td>\n",
       "      <td>35948.148159</td>\n",
       "      <td>3617.005031</td>\n",
       "      <td>6679.254689</td>\n",
       "      <td>12759.373575</td>\n",
       "      <td>12892.514865</td>\n",
       "      <td>72783.904915</td>\n",
       "      <td>71008.687722</td>\n",
       "      <td>28181.572940</td>\n",
       "      <td>13979.835395</td>\n",
       "    </tr>\n",
       "    <tr>\n",
       "      <th>2</th>\n",
       "      <td>Central Equatoria</td>\n",
       "      <td>92.0</td>\n",
       "      <td>Lainya</td>\n",
       "      <td>9203.0</td>\n",
       "      <td>110281.690307</td>\n",
       "      <td>46318.309929</td>\n",
       "      <td>11579.577482</td>\n",
       "      <td>11138.450721</td>\n",
       "      <td>12130.985934</td>\n",
       "      <td>11469.295792</td>\n",
       "      <td>31540.563428</td>\n",
       "      <td>25805.915532</td>\n",
       "      <td>2977.605638</td>\n",
       "      <td>3639.295780</td>\n",
       "    </tr>\n",
       "  </tbody>\n",
       "</table>\n",
       "</div>"
      ],
      "text/plain": [
       "               State  Pcode1     County  Pcode2  2019 Baseline Population   \\\n",
       "0  Central Equatoria    92.0       Juba  9202.0              499537.632115   \n",
       "1  Central Equatoria    92.0  Kajo-keji  9206.0              221902.149132   \n",
       "2  Central Equatoria    92.0     Lainya  9203.0              110281.690307   \n",
       "\n",
       "   Children <18yrs   No. male children under 5  No. female children under 5  \\\n",
       "0     241976.028996               36965.784777                 48654.965368   \n",
       "1      35948.148159                3617.005031                  6679.254689   \n",
       "2      46318.309929               11579.577482                 11138.450721   \n",
       "\n",
       "   No. male children aged 5 - 17 years  No. female children aged 5 - 17 years  \\\n",
       "0                         76928.795346                           79426.483506   \n",
       "1                         12759.373575                           12892.514865   \n",
       "2                         12130.985934                           11469.295792   \n",
       "\n",
       "   No. male adults aged 18 - 60  No. female adults aged 18 - 60  \\\n",
       "0                 115892.730651                   120388.569340   \n",
       "1                  72783.904915                    71008.687722   \n",
       "2                  31540.563428                    25805.915532   \n",
       "\n",
       "   No. male adults aged over 60  No. female adults aged over 60  \n",
       "0                  11739.134355                     9541.168773  \n",
       "1                  28181.572940                    13979.835395  \n",
       "2                   2977.605638                     3639.295780  "
      ]
     },
     "execution_count": 25,
     "metadata": {},
     "output_type": "execute_result"
    }
   ],
   "source": [
    "# Reading in Data \n",
    "demographics = pd.read_excel('demographics_2020.xlsx')\n",
    "\n",
    "# Printing the head\n",
    "demographics.head(3)"
   ]
  },
  {
   "cell_type": "code",
   "execution_count": 27,
   "metadata": {},
   "outputs": [
    {
     "name": "stdout",
     "output_type": "stream",
     "text": [
      "This DF has one extra county 80 instead of 79.\n"
     ]
    }
   ],
   "source": [
    "print(\"This DF has one extra county {} instead of 79.\".format(len(demographics['County'].unique())))"
   ]
  },
  {
   "cell_type": "code",
   "execution_count": null,
   "metadata": {},
   "outputs": [],
   "source": []
  },
  {
   "cell_type": "code",
   "execution_count": null,
   "metadata": {},
   "outputs": [],
   "source": []
  },
  {
   "cell_type": "code",
   "execution_count": null,
   "metadata": {},
   "outputs": [],
   "source": []
  },
  {
   "cell_type": "code",
   "execution_count": null,
   "metadata": {},
   "outputs": [],
   "source": []
  },
  {
   "cell_type": "markdown",
   "metadata": {},
   "source": [
    "### Migration - Is not annual?\n",
    "Current Dataframe: hos_conf_merged"
   ]
  },
  {
   "cell_type": "code",
   "execution_count": 19,
   "metadata": {},
   "outputs": [
    {
     "data": {
      "text/html": [
       "<div>\n",
       "<style scoped>\n",
       "    .dataframe tbody tr th:only-of-type {\n",
       "        vertical-align: middle;\n",
       "    }\n",
       "\n",
       "    .dataframe tbody tr th {\n",
       "        vertical-align: top;\n",
       "    }\n",
       "\n",
       "    .dataframe thead th {\n",
       "        text-align: right;\n",
       "    }\n",
       "</style>\n",
       "<table border=\"1\" class=\"dataframe\">\n",
       "  <thead>\n",
       "    <tr style=\"text-align: right;\">\n",
       "      <th>4</th>\n",
       "      <th>State</th>\n",
       "      <th>County</th>\n",
       "      <th>Sum of 30 Jan 2015 IDPs</th>\n",
       "      <th>Change from 15 Nov</th>\n",
       "    </tr>\n",
       "  </thead>\n",
       "  <tbody>\n",
       "    <tr>\n",
       "      <th>5</th>\n",
       "      <td>Central Equatoria</td>\n",
       "      <td>Juba</td>\n",
       "      <td>45578</td>\n",
       "      <td>1595</td>\n",
       "    </tr>\n",
       "    <tr>\n",
       "      <th>6</th>\n",
       "      <td>Central Equatoria</td>\n",
       "      <td>Lainya</td>\n",
       "      <td>0</td>\n",
       "      <td>0</td>\n",
       "    </tr>\n",
       "    <tr>\n",
       "      <th>7</th>\n",
       "      <td>Central Equatoria</td>\n",
       "      <td>Terekeka</td>\n",
       "      <td>18303</td>\n",
       "      <td>0</td>\n",
       "    </tr>\n",
       "    <tr>\n",
       "      <th>8</th>\n",
       "      <td>Central Equatoria</td>\n",
       "      <td>Yei</td>\n",
       "      <td>77</td>\n",
       "      <td>0</td>\n",
       "    </tr>\n",
       "    <tr>\n",
       "      <th>9</th>\n",
       "      <td>Central Equatoria</td>\n",
       "      <td>Kajo-Keji</td>\n",
       "      <td>0</td>\n",
       "      <td>0</td>\n",
       "    </tr>\n",
       "  </tbody>\n",
       "</table>\n",
       "</div>"
      ],
      "text/plain": [
       "4              State     County Sum of 30 Jan 2015 IDPs Change from 15 Nov\n",
       "5  Central Equatoria       Juba                   45578               1595\n",
       "6  Central Equatoria     Lainya                       0                  0\n",
       "7  Central Equatoria   Terekeka                   18303                  0\n",
       "8  Central Equatoria        Yei                      77                  0\n",
       "9  Central Equatoria  Kajo-Keji                       0                  0"
      ]
     },
     "execution_count": 19,
     "metadata": {},
     "output_type": "execute_result"
    }
   ],
   "source": [
    "# Reading in the Correct Sheet\n",
    "migration = pd.read_excel('migration.xlsx', sheet_name='Displaced by county')\n",
    "\n",
    "# Dropping to the correct location\n",
    "migration = migration.iloc[4:,]\n",
    "\n",
    "# Setting the top row to column names\n",
    "migration.columns = migration.iloc[0]\n",
    "\n",
    "# Removing top row\n",
    "migration = migration.iloc[1:,]\n",
    "\n",
    "# Only the left section was people leaving by county, slicing appropriately.\n",
    "migration_sliced = migration.iloc[:,0:4]\n",
    "\n",
    "# Printing the Head\n",
    "migration_sliced.head()"
   ]
  },
  {
   "cell_type": "code",
   "execution_count": 22,
   "metadata": {},
   "outputs": [
    {
     "name": "stdout",
     "output_type": "stream",
     "text": [
      "This dataset represents 73 of the 79 counties\n"
     ]
    }
   ],
   "source": [
    "print(\"This dataset represents {} of the 79 counties\".format(len(migration_sliced['County'].unique())))"
   ]
  },
  {
   "cell_type": "code",
   "execution_count": null,
   "metadata": {},
   "outputs": [],
   "source": []
  },
  {
   "cell_type": "code",
   "execution_count": null,
   "metadata": {},
   "outputs": [],
   "source": []
  },
  {
   "cell_type": "markdown",
   "metadata": {},
   "source": [
    "### Population"
   ]
  },
  {
   "cell_type": "code",
   "execution_count": 24,
   "metadata": {},
   "outputs": [
    {
     "data": {
      "text/html": [
       "<div>\n",
       "<style scoped>\n",
       "    .dataframe tbody tr th:only-of-type {\n",
       "        vertical-align: middle;\n",
       "    }\n",
       "\n",
       "    .dataframe tbody tr th {\n",
       "        vertical-align: top;\n",
       "    }\n",
       "\n",
       "    .dataframe thead th {\n",
       "        text-align: right;\n",
       "    }\n",
       "</style>\n",
       "<table border=\"1\" class=\"dataframe\">\n",
       "  <thead>\n",
       "    <tr style=\"text-align: right;\">\n",
       "      <th></th>\n",
       "      <th>admin2Pcod</th>\n",
       "      <th>Admin_1</th>\n",
       "      <th>Admin_2</th>\n",
       "      <th>SS2008</th>\n",
       "      <th>WP2010</th>\n",
       "      <th>LS2011</th>\n",
       "      <th>LS2012</th>\n",
       "      <th>LS2013</th>\n",
       "      <th>LS2014</th>\n",
       "      <th>UN2014</th>\n",
       "      <th>WP2015</th>\n",
       "      <th>ETHIOPIA</th>\n",
       "      <th>UGANDA</th>\n",
       "      <th>IDP - Dec. 3, 2015</th>\n",
       "      <th>Internal Out-Migration</th>\n",
       "      <th>Refugees</th>\n",
       "      <th>Net Migration</th>\n",
       "      <th>Estimated 2015 Population</th>\n",
       "      <th>PopChange</th>\n",
       "    </tr>\n",
       "  </thead>\n",
       "  <tbody>\n",
       "    <tr>\n",
       "      <th>0</th>\n",
       "      <td>SS1302</td>\n",
       "      <td>Unity</td>\n",
       "      <td>Abiemnhom</td>\n",
       "      <td>17012.0</td>\n",
       "      <td>22025</td>\n",
       "      <td>19393</td>\n",
       "      <td>21754.0</td>\n",
       "      <td>23203.0</td>\n",
       "      <td>24080</td>\n",
       "      <td>23369</td>\n",
       "      <td>31683</td>\n",
       "      <td>0</td>\n",
       "      <td>0</td>\n",
       "      <td>14217</td>\n",
       "      <td>11735.715071</td>\n",
       "      <td>0</td>\n",
       "      <td>2481.284929</td>\n",
       "      <td>25850.284929</td>\n",
       "      <td>0.106178</td>\n",
       "    </tr>\n",
       "    <tr>\n",
       "      <th>1</th>\n",
       "      <td>SS1207</td>\n",
       "      <td>Jonglei</td>\n",
       "      <td>Akobo</td>\n",
       "      <td>136210.0</td>\n",
       "      <td>132141</td>\n",
       "      <td>157474</td>\n",
       "      <td>176578.0</td>\n",
       "      <td>184131.0</td>\n",
       "      <td>191996</td>\n",
       "      <td>170211</td>\n",
       "      <td>188273</td>\n",
       "      <td>22885</td>\n",
       "      <td>0</td>\n",
       "      <td>34387</td>\n",
       "      <td>45815.782100</td>\n",
       "      <td>22885</td>\n",
       "      <td>-11428.782100</td>\n",
       "      <td>135897.217900</td>\n",
       "      <td>-0.201596</td>\n",
       "    </tr>\n",
       "    <tr>\n",
       "      <th>2</th>\n",
       "      <td>SS2205</td>\n",
       "      <td>Northern Bahr el Ghazal</td>\n",
       "      <td>Aweil Centre</td>\n",
       "      <td>41827.0</td>\n",
       "      <td>58488</td>\n",
       "      <td>49174</td>\n",
       "      <td>55547.0</td>\n",
       "      <td>56193.0</td>\n",
       "      <td>57442</td>\n",
       "      <td>106523</td>\n",
       "      <td>87394</td>\n",
       "      <td>0</td>\n",
       "      <td>0</td>\n",
       "      <td>0</td>\n",
       "      <td>0.000000</td>\n",
       "      <td>0</td>\n",
       "      <td>0.000000</td>\n",
       "      <td>106523.000000</td>\n",
       "      <td>0.000000</td>\n",
       "    </tr>\n",
       "    <tr>\n",
       "      <th>3</th>\n",
       "      <td>SS2202</td>\n",
       "      <td>Northern Bahr el Ghazal</td>\n",
       "      <td>Aweil East</td>\n",
       "      <td>309921.0</td>\n",
       "      <td>299846</td>\n",
       "      <td>353806</td>\n",
       "      <td>398384.0</td>\n",
       "      <td>417754.0</td>\n",
       "      <td>436824</td>\n",
       "      <td>529098</td>\n",
       "      <td>431148</td>\n",
       "      <td>0</td>\n",
       "      <td>0</td>\n",
       "      <td>0</td>\n",
       "      <td>0.000000</td>\n",
       "      <td>0</td>\n",
       "      <td>0.000000</td>\n",
       "      <td>529098.000000</td>\n",
       "      <td>0.000000</td>\n",
       "    </tr>\n",
       "    <tr>\n",
       "      <th>4</th>\n",
       "      <td>SS2201</td>\n",
       "      <td>Northern Bahr el Ghazal</td>\n",
       "      <td>Aweil North</td>\n",
       "      <td>129127.0</td>\n",
       "      <td>142807</td>\n",
       "      <td>146303</td>\n",
       "      <td>164515.0</td>\n",
       "      <td>174104.0</td>\n",
       "      <td>184654</td>\n",
       "      <td>267215</td>\n",
       "      <td>206227</td>\n",
       "      <td>0</td>\n",
       "      <td>0</td>\n",
       "      <td>0</td>\n",
       "      <td>0.000000</td>\n",
       "      <td>0</td>\n",
       "      <td>0.000000</td>\n",
       "      <td>267215.000000</td>\n",
       "      <td>0.000000</td>\n",
       "    </tr>\n",
       "  </tbody>\n",
       "</table>\n",
       "</div>"
      ],
      "text/plain": [
       "  admin2Pcod                  Admin_1       Admin_2    SS2008  WP2010  LS2011  \\\n",
       "0     SS1302                    Unity     Abiemnhom   17012.0   22025   19393   \n",
       "1     SS1207                  Jonglei         Akobo  136210.0  132141  157474   \n",
       "2     SS2205  Northern Bahr el Ghazal  Aweil Centre   41827.0   58488   49174   \n",
       "3     SS2202  Northern Bahr el Ghazal    Aweil East  309921.0  299846  353806   \n",
       "4     SS2201  Northern Bahr el Ghazal   Aweil North  129127.0  142807  146303   \n",
       "\n",
       "     LS2012    LS2013  LS2014  UN2014  WP2015  ETHIOPIA  UGANDA  \\\n",
       "0   21754.0   23203.0   24080   23369   31683         0       0   \n",
       "1  176578.0  184131.0  191996  170211  188273     22885       0   \n",
       "2   55547.0   56193.0   57442  106523   87394         0       0   \n",
       "3  398384.0  417754.0  436824  529098  431148         0       0   \n",
       "4  164515.0  174104.0  184654  267215  206227         0       0   \n",
       "\n",
       "   IDP - Dec. 3, 2015  Internal Out-Migration  Refugees  Net Migration  \\\n",
       "0               14217            11735.715071         0    2481.284929   \n",
       "1               34387            45815.782100     22885  -11428.782100   \n",
       "2                   0                0.000000         0       0.000000   \n",
       "3                   0                0.000000         0       0.000000   \n",
       "4                   0                0.000000         0       0.000000   \n",
       "\n",
       "   Estimated 2015 Population  PopChange  \n",
       "0               25850.284929   0.106178  \n",
       "1              135897.217900  -0.201596  \n",
       "2              106523.000000   0.000000  \n",
       "3              529098.000000   0.000000  \n",
       "4              267215.000000   0.000000  "
      ]
     },
     "execution_count": 24,
     "metadata": {},
     "output_type": "execute_result"
    }
   ],
   "source": [
    "population = pd.read_excel('population.xlsx')\n",
    "\n",
    "# Printing the head\n",
    "population.head()"
   ]
  },
  {
   "cell_type": "code",
   "execution_count": 17,
   "metadata": {},
   "outputs": [
    {
     "data": {
      "text/plain": [
       "79"
      ]
     },
     "execution_count": 17,
     "metadata": {},
     "output_type": "execute_result"
    }
   ],
   "source": [
    "len(population['Admin_2'].unique())"
   ]
  },
  {
   "cell_type": "code",
   "execution_count": 117,
   "metadata": {},
   "outputs": [
    {
     "data": {
      "text/plain": [
       "array(['Abiemnhom', 'Akobo', 'Aweil Centre', 'Aweil East', 'Aweil North',\n",
       "       'Aweil South', 'Aweil West', 'Awerial', 'Ayod', 'Baliet',\n",
       "       'Bor South', 'Budi', 'Canal/Pigi', 'Cueibet', 'Duk', 'Ezo',\n",
       "       'Fangak', 'Fashoda', 'Gogrial East', 'Gogrial West', 'Guit',\n",
       "       'Ibba', 'Ikotos', 'Juba', 'Jur River', 'Kajo-keji', 'Kapoeta East',\n",
       "       'Kapoeta North', 'Kapoeta South', 'Koch', 'Lafon', 'Lainya',\n",
       "       'Leer', 'Longochuk', 'Luakpiny/Nasir', 'Maban', 'Magwi', 'Maiwut',\n",
       "       'Malakal', 'Manyo', 'Maridi', 'Mayendit', 'Mayom', 'Melut',\n",
       "       'Morobo', 'Mundri East', 'Mundri West', 'Mvolo', 'Nagero',\n",
       "       'Nyirol', 'Nzara', 'Panyijiar', 'Panyikang', 'Pariang', 'Pibor',\n",
       "       'Pochalla', 'Raga', 'Renk', 'Rubkona', 'Rumbek Centre',\n",
       "       'Rumbek East', 'Rumbek North', 'Tambura', 'Terekeka', 'Tonj East',\n",
       "       'Tonj North', 'Tonj South', 'Torit', 'Twic', 'Twic East', 'Ulang',\n",
       "       'Uror', 'Wau', 'Wulu', 'Yambio', 'Yei', 'Yirol East', 'Yirol West',\n",
       "       nan], dtype=object)"
      ]
     },
     "execution_count": 117,
     "metadata": {},
     "output_type": "execute_result"
    }
   ],
   "source": [
    "population['Admin_2'].unique()"
   ]
  },
  {
   "cell_type": "code",
   "execution_count": null,
   "metadata": {},
   "outputs": [],
   "source": []
  },
  {
   "cell_type": "markdown",
   "metadata": {},
   "source": [
    "### Swing"
   ]
  },
  {
   "cell_type": "code",
   "execution_count": 11,
   "metadata": {},
   "outputs": [],
   "source": [
    "# #conflict_sliced_grouped['year'].unique()\n",
    "# conflict_sliced_grouped.to_csv('aggregated_conflict_data.csv')\n",
    "\n",
    "# # Reading out to CSV then back in fixes index\n",
    "# merged_conflict_data = pd.read_csv('aggregated_conflict_data.csv')\n",
    "\n",
    "# merged_conflict_data['year'].unique()\n",
    "\n",
    "# # Slicing to just state county and hospital number\n",
    "# hospitals_county_level = hospitals_county_level[['STATE', 'COUNTY','county_hospitals']]\n",
    "# hospitals_county_level.head()\n",
    "\n",
    "# # Getting a count of hospitals by region. \n",
    "# # Grouping and counting to get the total registered voters by precinct\n",
    "# count_total = hospitals_filtered.groupby('COUNTY')['FACIL_NAME2'].count().rename(\"county_hospitals\").reset_index()\n",
    "\n",
    "# # Combining back together\n",
    "# hospitals_filtered_added =  hospitals_filtered.merge(count_total)\n",
    "\n",
    "# # Dropping duplicates \n",
    "# hospitals_county_level = hospitals_filtered_added.drop_duplicates('COUNTY')\n",
    "\n",
    "# # Here I will begin merging the conflict data with the hospital data. \n",
    "# merged_conflict_data.head(1)\n",
    "\n",
    "# len(merged_conflict_data['admin2'].unique())\n",
    "\n",
    "# hospitals_filtered.head(1)\n",
    "\n",
    "# len(hospitals_filtered['COUNTY'].unique())\n",
    "\n",
    "# hospitals_filtered.columns\n",
    "\n",
    "# # Renaming \n",
    "# hos_conf_merged = hos_conf_merged.rename(columns={'STATE':'state','COUNTY':'county'})\n",
    "\n",
    "# # Reordering Dataframe\n",
    "# hos_conf_merged = hos_conf_merged[['year', 'state', 'county','fatalities', 'county_hospitals']]\n",
    "\n",
    "# # Checking the DF\n",
    "# hos_conf_merged.head()"
   ]
  },
  {
   "cell_type": "code",
   "execution_count": null,
   "metadata": {},
   "outputs": [],
   "source": []
  },
  {
   "cell_type": "code",
   "execution_count": null,
   "metadata": {},
   "outputs": [],
   "source": []
  },
  {
   "cell_type": "code",
   "execution_count": 14,
   "metadata": {},
   "outputs": [],
   "source": []
  },
  {
   "cell_type": "code",
   "execution_count": null,
   "metadata": {},
   "outputs": [],
   "source": []
  },
  {
   "cell_type": "code",
   "execution_count": 29,
   "metadata": {},
   "outputs": [],
   "source": []
  },
  {
   "cell_type": "code",
   "execution_count": null,
   "metadata": {},
   "outputs": [],
   "source": []
  },
  {
   "cell_type": "code",
   "execution_count": null,
   "metadata": {},
   "outputs": [],
   "source": []
  },
  {
   "cell_type": "code",
   "execution_count": null,
   "metadata": {},
   "outputs": [],
   "source": []
  },
  {
   "cell_type": "code",
   "execution_count": null,
   "metadata": {},
   "outputs": [],
   "source": []
  },
  {
   "cell_type": "code",
   "execution_count": null,
   "metadata": {},
   "outputs": [],
   "source": []
  },
  {
   "cell_type": "code",
   "execution_count": null,
   "metadata": {},
   "outputs": [],
   "source": []
  },
  {
   "cell_type": "code",
   "execution_count": null,
   "metadata": {},
   "outputs": [],
   "source": []
  },
  {
   "cell_type": "code",
   "execution_count": null,
   "metadata": {},
   "outputs": [],
   "source": []
  }
 ],
 "metadata": {
  "kernelspec": {
   "display_name": "Python 3",
   "language": "python",
   "name": "python3"
  },
  "language_info": {
   "codemirror_mode": {
    "name": "ipython",
    "version": 3
   },
   "file_extension": ".py",
   "mimetype": "text/x-python",
   "name": "python",
   "nbconvert_exporter": "python",
   "pygments_lexer": "ipython3",
   "version": "3.7.6"
  }
 },
 "nbformat": 4,
 "nbformat_minor": 4
}
