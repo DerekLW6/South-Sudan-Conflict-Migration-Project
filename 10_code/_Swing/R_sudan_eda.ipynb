{
 "cells": [
  {
   "cell_type": "code",
   "execution_count": null,
   "metadata": {},
   "outputs": [],
   "source": [
    "# NOTE: To load data, you must download both the extract's data and the DDI\n",
    "# and also set the working directory to the folder with these files (or change the path below).\n",
    "\n",
    "# if (!require(\"ipumsr\")) stop(\"Reading IPUMS data into R requires the ipumsr package. It can be installed using the following command: install.packages('ipumsr')\")\n",
    "\n",
    "# ddi <- read_ipums_ddi(\"ipumsi_00002.xml\")\n",
    "# data <- read_ipums_micro(ddi)\n",
    "\n",
    "# write.table(x, file = \"\", append = FALSE, quote = TRUE, sep = \" \",\n",
    "#             eol = \"\\n\", na = \"NA\", dec = \".\", row.names = TRUE,\n",
    "#             col.names = TRUE, qmethod = c(\"escape\", \"double\"),\n",
    "#             fileEncoding = \"\")\n",
    "\n",
    "#write.csv2(data, file = 'ipums_data_converted.csv')\n",
    "\n",
    "#install.packages('ipumsr')"
   ]
  },
  {
   "cell_type": "code",
   "execution_count": 1,
   "metadata": {},
   "outputs": [
    {
     "name": "stderr",
     "output_type": "stream",
     "text": [
      "Warning message:\n",
      "\"package 'ipumsr' was built under R version 3.6.3\"Registered S3 methods overwritten by 'ipumsr':\n",
      "  method                                 from \n",
      "  format.pillar_shaft_haven_labelled_chr haven\n",
      "  format.pillar_shaft_haven_labelled_num haven\n",
      "  pillar_shaft.haven_labelled            haven\n"
     ]
    }
   ],
   "source": [
    "library(ipumsr)"
   ]
  },
  {
   "cell_type": "code",
   "execution_count": 3,
   "metadata": {},
   "outputs": [
    {
     "name": "stdout",
     "output_type": "stream",
     "text": [
      "Use of data from IPUMS-International is subject to conditions including that\n",
      "users should cite the data appropriately. Use command `ipums_conditions()` for\n",
      "more details.\n"
     ]
    }
   ],
   "source": [
    "ddi <- read_ipums_ddi(\"ipumsi_00002.xml\")\n",
    "data <- read_ipums_micro(ddi)"
   ]
  },
  {
   "cell_type": "code",
   "execution_count": 4,
   "metadata": {},
   "outputs": [
    {
     "data": {
      "text/html": [
       "<ol class=list-inline>\n",
       "\t<li>5066530</li>\n",
       "\t<li>35</li>\n",
       "</ol>\n"
      ],
      "text/latex": [
       "\\begin{enumerate*}\n",
       "\\item 5066530\n",
       "\\item 35\n",
       "\\end{enumerate*}\n"
      ],
      "text/markdown": [
       "1. 5066530\n",
       "2. 35\n",
       "\n",
       "\n"
      ],
      "text/plain": [
       "[1] 5066530      35"
      ]
     },
     "metadata": {},
     "output_type": "display_data"
    }
   ],
   "source": [
    "dim(data)"
   ]
  },
  {
   "cell_type": "code",
   "execution_count": 5,
   "metadata": {},
   "outputs": [
    {
     "data": {
      "text/html": [
       "<table>\n",
       "<caption>A tibble: 20 × 35</caption>\n",
       "<thead>\n",
       "\t<tr><th scope=col>COUNTRY</th><th scope=col>YEAR</th><th scope=col>SAMPLE</th><th scope=col>SERIAL</th><th scope=col>HHWT</th><th scope=col>SD2008A_HHTYPE</th><th scope=col>SD2008A_DWTYPE</th><th scope=col>SD2008A_BEDRMS</th><th scope=col>SD2008A_OWNRSHP</th><th scope=col>SD2008A_WATSRC</th><th scope=col>...</th><th scope=col>SD2008A_USTATE</th><th scope=col>SD2008A_DURRES</th><th scope=col>SD2008A_MIGSTATE</th><th scope=col>SD2008A_EMPSTAT</th><th scope=col>SD2008A_REASON</th><th scope=col>SD2008A_OCC</th><th scope=col>SD2008A_IND</th><th scope=col>SD2008A_CLASSWK</th><th scope=col>SD2008A_MARST</th><th scope=col>SD2008A_AGEMARR</th></tr>\n",
       "\t<tr><th scope=col>&lt;int+lbl&gt;</th><th scope=col>&lt;int&gt;</th><th scope=col>&lt;int+lbl&gt;</th><th scope=col>&lt;dbl&gt;</th><th scope=col>&lt;dbl&gt;</th><th scope=col>&lt;int+lbl&gt;</th><th scope=col>&lt;int+lbl&gt;</th><th scope=col>&lt;int+lbl&gt;</th><th scope=col>&lt;int+lbl&gt;</th><th scope=col>&lt;int+lbl&gt;</th><th scope=col>...</th><th scope=col>&lt;int+lbl&gt;</th><th scope=col>&lt;int+lbl&gt;</th><th scope=col>&lt;int+lbl&gt;</th><th scope=col>&lt;int+lbl&gt;</th><th scope=col>&lt;int+lbl&gt;</th><th scope=col>&lt;int+lbl&gt;</th><th scope=col>&lt;int+lbl&gt;</th><th scope=col>&lt;int+lbl&gt;</th><th scope=col>&lt;int+lbl&gt;</th><th scope=col>&lt;int+lbl&gt;</th></tr>\n",
       "</thead>\n",
       "<tbody>\n",
       "\t<tr><td>729</td><td>2008</td><td>729200801</td><td>1000</td><td>12.79</td><td>1</td><td>4</td><td>1</td><td>1</td><td>5</td><td>...</td><td>63</td><td>45</td><td>63</td><td>5</td><td>8</td><td>99</td><td> 41</td><td>9</td><td>2</td><td>45</td></tr>\n",
       "\t<tr><td>729</td><td>2008</td><td>729200801</td><td>1000</td><td>12.79</td><td>1</td><td>4</td><td>1</td><td>1</td><td>5</td><td>...</td><td>63</td><td>40</td><td>63</td><td>5</td><td>8</td><td>99</td><td>999</td><td>9</td><td>2</td><td>16</td></tr>\n",
       "\t<tr><td>729</td><td>2008</td><td>729200801</td><td>1000</td><td>12.79</td><td>1</td><td>4</td><td>1</td><td>1</td><td>5</td><td>...</td><td>63</td><td>20</td><td>63</td><td>5</td><td>8</td><td>99</td><td>999</td><td>9</td><td>1</td><td>99</td></tr>\n",
       "\t<tr><td>729</td><td>2008</td><td>729200801</td><td>1000</td><td>12.79</td><td>1</td><td>4</td><td>1</td><td>1</td><td>5</td><td>...</td><td>63</td><td>18</td><td>63</td><td>5</td><td>8</td><td>99</td><td>999</td><td>9</td><td>1</td><td>99</td></tr>\n",
       "\t<tr><td>729</td><td>2008</td><td>729200801</td><td>1000</td><td>12.79</td><td>1</td><td>4</td><td>1</td><td>1</td><td>5</td><td>...</td><td>63</td><td>11</td><td>63</td><td>5</td><td>8</td><td>99</td><td>999</td><td>9</td><td>9</td><td>99</td></tr>\n",
       "\t<tr><td>729</td><td>2008</td><td>729200801</td><td>1000</td><td>12.79</td><td>1</td><td>4</td><td>1</td><td>1</td><td>5</td><td>...</td><td>63</td><td> 9</td><td>63</td><td>9</td><td>9</td><td>99</td><td>999</td><td>9</td><td>9</td><td>99</td></tr>\n",
       "\t<tr><td>729</td><td>2008</td><td>729200801</td><td>2000</td><td>12.79</td><td>1</td><td>4</td><td>6</td><td>1</td><td>5</td><td>...</td><td>63</td><td>62</td><td>63</td><td>1</td><td>9</td><td>14</td><td> 47</td><td>3</td><td>2</td><td>18</td></tr>\n",
       "\t<tr><td>729</td><td>2008</td><td>729200801</td><td>2000</td><td>12.79</td><td>1</td><td>4</td><td>6</td><td>1</td><td>5</td><td>...</td><td>63</td><td>47</td><td>63</td><td>5</td><td>8</td><td>99</td><td>999</td><td>9</td><td>2</td><td>12</td></tr>\n",
       "\t<tr><td>729</td><td>2008</td><td>729200801</td><td>2000</td><td>12.79</td><td>1</td><td>4</td><td>6</td><td>1</td><td>5</td><td>...</td><td>63</td><td>28</td><td>63</td><td>3</td><td>2</td><td>71</td><td> 41</td><td>1</td><td>2</td><td>13</td></tr>\n",
       "\t<tr><td>729</td><td>2008</td><td>729200801</td><td>2000</td><td>12.79</td><td>1</td><td>4</td><td>6</td><td>1</td><td>5</td><td>...</td><td>63</td><td>26</td><td>63</td><td>5</td><td>8</td><td>99</td><td>999</td><td>9</td><td>1</td><td>99</td></tr>\n",
       "\t<tr><td>729</td><td>2008</td><td>729200801</td><td>2000</td><td>12.79</td><td>1</td><td>4</td><td>6</td><td>1</td><td>5</td><td>...</td><td>63</td><td>24</td><td>63</td><td>1</td><td>9</td><td>75</td><td> 47</td><td>2</td><td>4</td><td>15</td></tr>\n",
       "\t<tr><td>729</td><td>2008</td><td>729200801</td><td>2000</td><td>12.79</td><td>1</td><td>4</td><td>6</td><td>1</td><td>5</td><td>...</td><td>63</td><td>22</td><td>63</td><td>1</td><td>9</td><td>75</td><td> 31</td><td>2</td><td>3</td><td>13</td></tr>\n",
       "\t<tr><td>729</td><td>2008</td><td>729200801</td><td>2000</td><td>12.79</td><td>1</td><td>4</td><td>6</td><td>1</td><td>5</td><td>...</td><td>63</td><td>20</td><td>63</td><td>5</td><td>8</td><td>99</td><td>999</td><td>9</td><td>1</td><td>99</td></tr>\n",
       "\t<tr><td>729</td><td>2008</td><td>729200801</td><td>2000</td><td>12.79</td><td>1</td><td>4</td><td>6</td><td>1</td><td>5</td><td>...</td><td>63</td><td>19</td><td>63</td><td>5</td><td>8</td><td>99</td><td>999</td><td>9</td><td>1</td><td>99</td></tr>\n",
       "\t<tr><td>729</td><td>2008</td><td>729200801</td><td>2000</td><td>12.79</td><td>1</td><td>4</td><td>6</td><td>1</td><td>5</td><td>...</td><td>63</td><td>17</td><td>63</td><td>5</td><td>8</td><td>99</td><td> 41</td><td>9</td><td>1</td><td>99</td></tr>\n",
       "\t<tr><td>729</td><td>2008</td><td>729200801</td><td>2000</td><td>12.79</td><td>1</td><td>4</td><td>6</td><td>1</td><td>5</td><td>...</td><td>63</td><td>25</td><td>63</td><td>5</td><td>8</td><td>99</td><td>999</td><td>9</td><td>4</td><td>20</td></tr>\n",
       "\t<tr><td>729</td><td>2008</td><td>729200801</td><td>2000</td><td>12.79</td><td>1</td><td>4</td><td>6</td><td>1</td><td>5</td><td>...</td><td>63</td><td>15</td><td>63</td><td>5</td><td>8</td><td>99</td><td>999</td><td>9</td><td>1</td><td>99</td></tr>\n",
       "\t<tr><td>729</td><td>2008</td><td>729200801</td><td>2000</td><td>12.79</td><td>1</td><td>4</td><td>6</td><td>1</td><td>5</td><td>...</td><td>63</td><td>82</td><td>63</td><td>5</td><td>8</td><td>99</td><td>999</td><td>9</td><td>2</td><td>18</td></tr>\n",
       "\t<tr><td>729</td><td>2008</td><td>729200801</td><td>3000</td><td>12.79</td><td>1</td><td>4</td><td>2</td><td>1</td><td>5</td><td>...</td><td>63</td><td>65</td><td>63</td><td>5</td><td>8</td><td>91</td><td> 97</td><td>9</td><td>2</td><td>20</td></tr>\n",
       "\t<tr><td>729</td><td>2008</td><td>729200801</td><td>3000</td><td>12.79</td><td>1</td><td>4</td><td>2</td><td>1</td><td>5</td><td>...</td><td>63</td><td>49</td><td>63</td><td>5</td><td>8</td><td>99</td><td>999</td><td>9</td><td>2</td><td>15</td></tr>\n",
       "</tbody>\n",
       "</table>\n"
      ],
      "text/latex": [
       "A tibble: 20 × 35\n",
       "\\begin{tabular}{r|lllllllllllllllllllllllllllllllllll}\n",
       " COUNTRY & YEAR & SAMPLE & SERIAL & HHWT & SD2008A\\_HHTYPE & SD2008A\\_DWTYPE & SD2008A\\_BEDRMS & SD2008A\\_OWNRSHP & SD2008A\\_WATSRC & SD2008A\\_LIGHTING & SD2008A\\_FUELCOOK & SD2008A\\_VEHICLE & SD2008A\\_MOTOCYC & SD2008A\\_BICYCLE & SD2008A\\_LIVEHOOD & PERNUM & PERWT & SD2008A\\_RELATE & SD2008A\\_SEX & SD2008A\\_AGE & SD2008A\\_NATION & SD2008A\\_REGGROUP & SD2008A\\_ORREGION & SD2008A\\_BPLSTATE & SD2008A\\_USTATE & SD2008A\\_DURRES & SD2008A\\_MIGSTATE & SD2008A\\_EMPSTAT & SD2008A\\_REASON & SD2008A\\_OCC & SD2008A\\_IND & SD2008A\\_CLASSWK & SD2008A\\_MARST & SD2008A\\_AGEMARR\\\\\n",
       " <int+lbl> & <int> & <int+lbl> & <dbl> & <dbl> & <int+lbl> & <int+lbl> & <int+lbl> & <int+lbl> & <int+lbl> & <int+lbl> & <int+lbl> & <int+lbl> & <int+lbl> & <int+lbl> & <int+lbl> & <dbl> & <dbl> & <int+lbl> & <int+lbl> & <int+lbl> & <int+lbl> & <int+lbl> & <int+lbl> & <int+lbl> & <int+lbl> & <int+lbl> & <int+lbl> & <int+lbl> & <int+lbl> & <int+lbl> & <int+lbl> & <int+lbl> & <int+lbl> & <int+lbl>\\\\\n",
       "\\hline\n",
       "\t 729 & 2008 & 729200801 & 1000 & 12.79 & 1 & 4 & 1 & 1 & 5 & 7 & 1 & 2 & 2 & 2 & 1 &  1 & 14.24 & 1 & 1 & 45 & 1 & 1 & 6 & 63 & 63 & 45 & 63 & 5 & 8 & 99 &  41 & 9 & 2 & 45\\\\\n",
       "\t 729 & 2008 & 729200801 & 1000 & 12.79 & 1 & 4 & 1 & 1 & 5 & 7 & 1 & 2 & 2 & 2 & 1 &  2 & 14.05 & 2 & 2 & 40 & 1 & 1 & 6 & 63 & 63 & 40 & 63 & 5 & 8 & 99 & 999 & 9 & 2 & 16\\\\\n",
       "\t 729 & 2008 & 729200801 & 1000 & 12.79 & 1 & 4 & 1 & 1 & 5 & 7 & 1 & 2 & 2 & 2 & 1 &  3 & 15.17 & 3 & 1 & 20 & 1 & 1 & 6 & 63 & 63 & 20 & 63 & 5 & 8 & 99 & 999 & 9 & 1 & 99\\\\\n",
       "\t 729 & 2008 & 729200801 & 1000 & 12.79 & 1 & 4 & 1 & 1 & 5 & 7 & 1 & 2 & 2 & 2 & 1 &  4 & 15.47 & 3 & 1 & 18 & 1 & 1 & 6 & 63 & 63 & 18 & 63 & 5 & 8 & 99 & 999 & 9 & 1 & 99\\\\\n",
       "\t 729 & 2008 & 729200801 & 1000 & 12.79 & 1 & 4 & 1 & 1 & 5 & 7 & 1 & 2 & 2 & 2 & 1 &  5 & 15.52 & 3 & 2 & 11 & 1 & 1 & 6 & 63 & 63 & 11 & 63 & 5 & 8 & 99 & 999 & 9 & 9 & 99\\\\\n",
       "\t 729 & 2008 & 729200801 & 1000 & 12.79 & 1 & 4 & 1 & 1 & 5 & 7 & 1 & 2 & 2 & 2 & 1 &  6 & 14.50 & 3 & 2 &  9 & 1 & 1 & 6 & 63 & 63 &  9 & 63 & 9 & 9 & 99 & 999 & 9 & 9 & 99\\\\\n",
       "\t 729 & 2008 & 729200801 & 2000 & 12.79 & 1 & 4 & 6 & 1 & 5 & 6 & 1 & 2 & 2 & 2 & 4 &  1 & 15.00 & 1 & 1 & 65 & 1 & 1 & 6 & 63 & 63 & 62 & 63 & 1 & 9 & 14 &  47 & 3 & 2 & 18\\\\\n",
       "\t 729 & 2008 & 729200801 & 2000 & 12.79 & 1 & 4 & 6 & 1 & 5 & 6 & 1 & 2 & 2 & 2 & 4 &  2 & 14.93 & 2 & 2 & 52 & 1 & 1 & 6 & 63 & 63 & 47 & 63 & 5 & 8 & 99 & 999 & 9 & 2 & 12\\\\\n",
       "\t 729 & 2008 & 729200801 & 2000 & 12.79 & 1 & 4 & 6 & 1 & 5 & 6 & 1 & 2 & 2 & 2 & 4 &  3 & 14.76 & 3 & 1 & 28 & 1 & 1 & 6 & 63 & 63 & 28 & 63 & 3 & 2 & 71 &  41 & 1 & 2 & 13\\\\\n",
       "\t 729 & 2008 & 729200801 & 2000 & 12.79 & 1 & 4 & 6 & 1 & 5 & 6 & 1 & 2 & 2 & 2 & 4 &  4 & 14.76 & 3 & 1 & 26 & 1 & 1 & 6 & 63 & 63 & 26 & 63 & 5 & 8 & 99 & 999 & 9 & 1 & 99\\\\\n",
       "\t 729 & 2008 & 729200801 & 2000 & 12.79 & 1 & 4 & 6 & 1 & 5 & 6 & 1 & 2 & 2 & 2 & 4 &  5 & 14.09 & 3 & 2 & 24 & 1 & 1 & 6 & 63 & 63 & 24 & 63 & 1 & 9 & 75 &  47 & 2 & 4 & 15\\\\\n",
       "\t 729 & 2008 & 729200801 & 2000 & 12.79 & 1 & 4 & 6 & 1 & 5 & 6 & 1 & 2 & 2 & 2 & 4 &  6 & 14.09 & 3 & 2 & 22 & 1 & 1 & 6 & 63 & 63 & 22 & 63 & 1 & 9 & 75 &  31 & 2 & 3 & 13\\\\\n",
       "\t 729 & 2008 & 729200801 & 2000 & 12.79 & 1 & 4 & 6 & 1 & 5 & 6 & 1 & 2 & 2 & 2 & 4 &  7 & 15.17 & 3 & 1 & 20 & 1 & 1 & 6 & 63 & 63 & 20 & 63 & 5 & 8 & 99 & 999 & 9 & 1 & 99\\\\\n",
       "\t 729 & 2008 & 729200801 & 2000 & 12.79 & 1 & 4 & 6 & 1 & 5 & 6 & 1 & 2 & 2 & 2 & 4 &  8 & 15.47 & 3 & 1 & 19 & 1 & 1 & 6 & 63 & 63 & 19 & 63 & 5 & 8 & 99 & 999 & 9 & 1 & 99\\\\\n",
       "\t 729 & 2008 & 729200801 & 2000 & 12.79 & 1 & 4 & 6 & 1 & 5 & 6 & 1 & 2 & 2 & 2 & 4 &  9 & 15.47 & 3 & 1 & 17 & 1 & 1 & 6 & 63 & 63 & 17 & 63 & 5 & 8 & 99 &  41 & 9 & 1 & 99\\\\\n",
       "\t 729 & 2008 & 729200801 & 2000 & 12.79 & 1 & 4 & 6 & 1 & 5 & 6 & 1 & 2 & 2 & 2 & 4 & 10 & 13.24 & 6 & 2 & 25 & 1 & 1 & 6 & 63 & 63 & 25 & 63 & 5 & 8 & 99 & 999 & 9 & 4 & 20\\\\\n",
       "\t 729 & 2008 & 729200801 & 2000 & 12.79 & 1 & 4 & 6 & 1 & 5 & 6 & 1 & 2 & 2 & 2 & 4 & 11 & 14.99 & 9 & 2 & 15 & 1 & 1 & 6 & 63 & 63 & 15 & 63 & 5 & 8 & 99 & 999 & 9 & 1 & 99\\\\\n",
       "\t 729 & 2008 & 729200801 & 2000 & 12.79 & 1 & 4 & 6 & 1 & 5 & 6 & 1 & 2 & 2 & 2 & 4 & 12 & 15.40 & 8 & 1 & 82 & 1 & 1 & 6 & 63 & 63 & 82 & 63 & 5 & 8 & 99 & 999 & 9 & 2 & 18\\\\\n",
       "\t 729 & 2008 & 729200801 & 3000 & 12.79 & 1 & 4 & 2 & 1 & 5 & 7 & 1 & 2 & 2 & 2 & 1 &  1 & 13.11 & 1 & 2 & 65 & 1 & 1 & 6 & 63 & 63 & 65 & 63 & 5 & 8 & 91 &  97 & 9 & 2 & 20\\\\\n",
       "\t 729 & 2008 & 729200801 & 3000 & 12.79 & 1 & 4 & 2 & 1 & 5 & 7 & 1 & 2 & 2 & 2 & 1 &  2 & 13.67 & 2 & 2 & 49 & 1 & 1 & 6 & 63 & 63 & 49 & 63 & 5 & 8 & 99 & 999 & 9 & 2 & 15\\\\\n",
       "\\end{tabular}\n"
      ],
      "text/markdown": [
       "\n",
       "A tibble: 20 × 35\n",
       "\n",
       "| COUNTRY &lt;int+lbl&gt; | YEAR &lt;int&gt; | SAMPLE &lt;int+lbl&gt; | SERIAL &lt;dbl&gt; | HHWT &lt;dbl&gt; | SD2008A_HHTYPE &lt;int+lbl&gt; | SD2008A_DWTYPE &lt;int+lbl&gt; | SD2008A_BEDRMS &lt;int+lbl&gt; | SD2008A_OWNRSHP &lt;int+lbl&gt; | SD2008A_WATSRC &lt;int+lbl&gt; | ... ... | SD2008A_USTATE &lt;int+lbl&gt; | SD2008A_DURRES &lt;int+lbl&gt; | SD2008A_MIGSTATE &lt;int+lbl&gt; | SD2008A_EMPSTAT &lt;int+lbl&gt; | SD2008A_REASON &lt;int+lbl&gt; | SD2008A_OCC &lt;int+lbl&gt; | SD2008A_IND &lt;int+lbl&gt; | SD2008A_CLASSWK &lt;int+lbl&gt; | SD2008A_MARST &lt;int+lbl&gt; | SD2008A_AGEMARR &lt;int+lbl&gt; |\n",
       "|---|---|---|---|---|---|---|---|---|---|---|---|---|---|---|---|---|---|---|---|---|\n",
       "| 729 | 2008 | 729200801 | 1000 | 12.79 | 1 | 4 | 1 | 1 | 5 | ... | 63 | 45 | 63 | 5 | 8 | 99 |  41 | 9 | 2 | 45 |\n",
       "| 729 | 2008 | 729200801 | 1000 | 12.79 | 1 | 4 | 1 | 1 | 5 | ... | 63 | 40 | 63 | 5 | 8 | 99 | 999 | 9 | 2 | 16 |\n",
       "| 729 | 2008 | 729200801 | 1000 | 12.79 | 1 | 4 | 1 | 1 | 5 | ... | 63 | 20 | 63 | 5 | 8 | 99 | 999 | 9 | 1 | 99 |\n",
       "| 729 | 2008 | 729200801 | 1000 | 12.79 | 1 | 4 | 1 | 1 | 5 | ... | 63 | 18 | 63 | 5 | 8 | 99 | 999 | 9 | 1 | 99 |\n",
       "| 729 | 2008 | 729200801 | 1000 | 12.79 | 1 | 4 | 1 | 1 | 5 | ... | 63 | 11 | 63 | 5 | 8 | 99 | 999 | 9 | 9 | 99 |\n",
       "| 729 | 2008 | 729200801 | 1000 | 12.79 | 1 | 4 | 1 | 1 | 5 | ... | 63 |  9 | 63 | 9 | 9 | 99 | 999 | 9 | 9 | 99 |\n",
       "| 729 | 2008 | 729200801 | 2000 | 12.79 | 1 | 4 | 6 | 1 | 5 | ... | 63 | 62 | 63 | 1 | 9 | 14 |  47 | 3 | 2 | 18 |\n",
       "| 729 | 2008 | 729200801 | 2000 | 12.79 | 1 | 4 | 6 | 1 | 5 | ... | 63 | 47 | 63 | 5 | 8 | 99 | 999 | 9 | 2 | 12 |\n",
       "| 729 | 2008 | 729200801 | 2000 | 12.79 | 1 | 4 | 6 | 1 | 5 | ... | 63 | 28 | 63 | 3 | 2 | 71 |  41 | 1 | 2 | 13 |\n",
       "| 729 | 2008 | 729200801 | 2000 | 12.79 | 1 | 4 | 6 | 1 | 5 | ... | 63 | 26 | 63 | 5 | 8 | 99 | 999 | 9 | 1 | 99 |\n",
       "| 729 | 2008 | 729200801 | 2000 | 12.79 | 1 | 4 | 6 | 1 | 5 | ... | 63 | 24 | 63 | 1 | 9 | 75 |  47 | 2 | 4 | 15 |\n",
       "| 729 | 2008 | 729200801 | 2000 | 12.79 | 1 | 4 | 6 | 1 | 5 | ... | 63 | 22 | 63 | 1 | 9 | 75 |  31 | 2 | 3 | 13 |\n",
       "| 729 | 2008 | 729200801 | 2000 | 12.79 | 1 | 4 | 6 | 1 | 5 | ... | 63 | 20 | 63 | 5 | 8 | 99 | 999 | 9 | 1 | 99 |\n",
       "| 729 | 2008 | 729200801 | 2000 | 12.79 | 1 | 4 | 6 | 1 | 5 | ... | 63 | 19 | 63 | 5 | 8 | 99 | 999 | 9 | 1 | 99 |\n",
       "| 729 | 2008 | 729200801 | 2000 | 12.79 | 1 | 4 | 6 | 1 | 5 | ... | 63 | 17 | 63 | 5 | 8 | 99 |  41 | 9 | 1 | 99 |\n",
       "| 729 | 2008 | 729200801 | 2000 | 12.79 | 1 | 4 | 6 | 1 | 5 | ... | 63 | 25 | 63 | 5 | 8 | 99 | 999 | 9 | 4 | 20 |\n",
       "| 729 | 2008 | 729200801 | 2000 | 12.79 | 1 | 4 | 6 | 1 | 5 | ... | 63 | 15 | 63 | 5 | 8 | 99 | 999 | 9 | 1 | 99 |\n",
       "| 729 | 2008 | 729200801 | 2000 | 12.79 | 1 | 4 | 6 | 1 | 5 | ... | 63 | 82 | 63 | 5 | 8 | 99 | 999 | 9 | 2 | 18 |\n",
       "| 729 | 2008 | 729200801 | 3000 | 12.79 | 1 | 4 | 2 | 1 | 5 | ... | 63 | 65 | 63 | 5 | 8 | 91 |  97 | 9 | 2 | 20 |\n",
       "| 729 | 2008 | 729200801 | 3000 | 12.79 | 1 | 4 | 2 | 1 | 5 | ... | 63 | 49 | 63 | 5 | 8 | 99 | 999 | 9 | 2 | 15 |\n",
       "\n"
      ],
      "text/plain": [
       "   COUNTRY YEAR SAMPLE    SERIAL HHWT  SD2008A_HHTYPE SD2008A_DWTYPE\n",
       "1  729     2008 729200801 1000   12.79 1              4             \n",
       "2  729     2008 729200801 1000   12.79 1              4             \n",
       "3  729     2008 729200801 1000   12.79 1              4             \n",
       "4  729     2008 729200801 1000   12.79 1              4             \n",
       "5  729     2008 729200801 1000   12.79 1              4             \n",
       "6  729     2008 729200801 1000   12.79 1              4             \n",
       "7  729     2008 729200801 2000   12.79 1              4             \n",
       "8  729     2008 729200801 2000   12.79 1              4             \n",
       "9  729     2008 729200801 2000   12.79 1              4             \n",
       "10 729     2008 729200801 2000   12.79 1              4             \n",
       "11 729     2008 729200801 2000   12.79 1              4             \n",
       "12 729     2008 729200801 2000   12.79 1              4             \n",
       "13 729     2008 729200801 2000   12.79 1              4             \n",
       "14 729     2008 729200801 2000   12.79 1              4             \n",
       "15 729     2008 729200801 2000   12.79 1              4             \n",
       "16 729     2008 729200801 2000   12.79 1              4             \n",
       "17 729     2008 729200801 2000   12.79 1              4             \n",
       "18 729     2008 729200801 2000   12.79 1              4             \n",
       "19 729     2008 729200801 3000   12.79 1              4             \n",
       "20 729     2008 729200801 3000   12.79 1              4             \n",
       "   SD2008A_BEDRMS SD2008A_OWNRSHP SD2008A_WATSRC ... SD2008A_USTATE\n",
       "1  1              1               5              ... 63            \n",
       "2  1              1               5              ... 63            \n",
       "3  1              1               5              ... 63            \n",
       "4  1              1               5              ... 63            \n",
       "5  1              1               5              ... 63            \n",
       "6  1              1               5              ... 63            \n",
       "7  6              1               5              ... 63            \n",
       "8  6              1               5              ... 63            \n",
       "9  6              1               5              ... 63            \n",
       "10 6              1               5              ... 63            \n",
       "11 6              1               5              ... 63            \n",
       "12 6              1               5              ... 63            \n",
       "13 6              1               5              ... 63            \n",
       "14 6              1               5              ... 63            \n",
       "15 6              1               5              ... 63            \n",
       "16 6              1               5              ... 63            \n",
       "17 6              1               5              ... 63            \n",
       "18 6              1               5              ... 63            \n",
       "19 2              1               5              ... 63            \n",
       "20 2              1               5              ... 63            \n",
       "   SD2008A_DURRES SD2008A_MIGSTATE SD2008A_EMPSTAT SD2008A_REASON SD2008A_OCC\n",
       "1  45             63               5               8              99         \n",
       "2  40             63               5               8              99         \n",
       "3  20             63               5               8              99         \n",
       "4  18             63               5               8              99         \n",
       "5  11             63               5               8              99         \n",
       "6   9             63               9               9              99         \n",
       "7  62             63               1               9              14         \n",
       "8  47             63               5               8              99         \n",
       "9  28             63               3               2              71         \n",
       "10 26             63               5               8              99         \n",
       "11 24             63               1               9              75         \n",
       "12 22             63               1               9              75         \n",
       "13 20             63               5               8              99         \n",
       "14 19             63               5               8              99         \n",
       "15 17             63               5               8              99         \n",
       "16 25             63               5               8              99         \n",
       "17 15             63               5               8              99         \n",
       "18 82             63               5               8              99         \n",
       "19 65             63               5               8              91         \n",
       "20 49             63               5               8              99         \n",
       "   SD2008A_IND SD2008A_CLASSWK SD2008A_MARST SD2008A_AGEMARR\n",
       "1   41         9               2             45             \n",
       "2  999         9               2             16             \n",
       "3  999         9               1             99             \n",
       "4  999         9               1             99             \n",
       "5  999         9               9             99             \n",
       "6  999         9               9             99             \n",
       "7   47         3               2             18             \n",
       "8  999         9               2             12             \n",
       "9   41         1               2             13             \n",
       "10 999         9               1             99             \n",
       "11  47         2               4             15             \n",
       "12  31         2               3             13             \n",
       "13 999         9               1             99             \n",
       "14 999         9               1             99             \n",
       "15  41         9               1             99             \n",
       "16 999         9               4             20             \n",
       "17 999         9               1             99             \n",
       "18 999         9               2             18             \n",
       "19  97         9               2             20             \n",
       "20 999         9               2             15             "
      ]
     },
     "metadata": {},
     "output_type": "display_data"
    }
   ],
   "source": [
    "head(data, 20)"
   ]
  },
  {
   "cell_type": "code",
   "execution_count": null,
   "metadata": {},
   "outputs": [],
   "source": []
  }
 ],
 "metadata": {
  "kernelspec": {
   "display_name": "R",
   "language": "R",
   "name": "ir"
  },
  "language_info": {
   "codemirror_mode": "r",
   "file_extension": ".r",
   "mimetype": "text/x-r-source",
   "name": "R",
   "pygments_lexer": "r",
   "version": "3.6.1"
  }
 },
 "nbformat": 4,
 "nbformat_minor": 4
}
